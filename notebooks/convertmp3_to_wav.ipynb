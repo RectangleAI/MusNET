{
  "nbformat": 4,
  "nbformat_minor": 0,
  "metadata": {
    "colab": {
      "name": "convertmp3_to_wav.ipynb",
      "provenance": []
    },
    "kernelspec": {
      "name": "python3",
      "display_name": "Python 3"
    },
    "language_info": {
      "name": "python"
    }
  },
  "cells": [
    {
      "cell_type": "code",
      "execution_count": null,
      "metadata": {
        "id": "wUvd6x5nsuTm"
      },
      "outputs": [],
      "source": [
        ""
      ]
    },
    {
      "cell_type": "code",
      "source": [
        "from google.colab import drive\n",
        "drive.mount('/content/drive')"
      ],
      "metadata": {
        "colab": {
          "base_uri": "https://localhost:8080/"
        },
        "id": "Q-OhyAOasx60",
        "outputId": "94f6155d-250a-4372-8892-8a7998168eb8"
      },
      "execution_count": 1,
      "outputs": [
        {
          "output_type": "stream",
          "name": "stdout",
          "text": [
            "Mounted at /content/drive\n"
          ]
        }
      ]
    },
    {
      "cell_type": "code",
      "source": [
        "!pip install pydub"
      ],
      "metadata": {
        "colab": {
          "base_uri": "https://localhost:8080/"
        },
        "id": "G6qvpJn7syeb",
        "outputId": "2edf879c-38a6-4893-d4fe-2a9bedf18628"
      },
      "execution_count": 2,
      "outputs": [
        {
          "output_type": "stream",
          "name": "stdout",
          "text": [
            "Collecting pydub\n",
            "  Downloading pydub-0.25.1-py2.py3-none-any.whl (32 kB)\n",
            "Installing collected packages: pydub\n",
            "Successfully installed pydub-0.25.1\n"
          ]
        }
      ]
    },
    {
      "cell_type": "code",
      "source": [
        "from pydub import AudioSegment"
      ],
      "metadata": {
        "id": "4OYKHTZBs-ru"
      },
      "execution_count": 3,
      "outputs": []
    },
    {
      "cell_type": "code",
      "source": [
        "src = \"/content/drive/MyDrive/DataSetVoice/voice/\"\n",
        "dst = \"/content/drive/MyDrive/DataSetVoice/voice_wav/\""
      ],
      "metadata": {
        "id": "yDFoKcL8tLCG"
      },
      "execution_count": 19,
      "outputs": []
    },
    {
      "cell_type": "code",
      "source": [
        "import os"
      ],
      "metadata": {
        "id": "0smEqPMYt4gC"
      },
      "execution_count": 9,
      "outputs": []
    },
    {
      "cell_type": "code",
      "source": [
        "from glob import glob\n",
        "lii = glob(src+'*')"
      ],
      "metadata": {
        "id": "2JwCzerftfI-"
      },
      "execution_count": 7,
      "outputs": []
    },
    {
      "cell_type": "code",
      "source": [
        "os.chdir(src)\n",
        "lii = glob(\"*\")"
      ],
      "metadata": {
        "id": "h689EItbt6-1"
      },
      "execution_count": 10,
      "outputs": []
    },
    {
      "cell_type": "code",
      "source": [
        "print(lii)"
      ],
      "metadata": {
        "colab": {
          "base_uri": "https://localhost:8080/"
        },
        "id": "aZpquEg5ttgp",
        "outputId": "d0477346-538f-484a-8671-c3efff297ec0"
      },
      "execution_count": 11,
      "outputs": [
        {
          "output_type": "stream",
          "name": "stdout",
          "text": [
            "['103.mp3', '102.mp3', '101.mp3', '100.mp3', '99.mp3', '98.mp3', '97.mp3', '96.mp3', '90.mp3', '88.mp3', '84.mp3', '86.mp3', '80.mp3', '82.mp3', '14.mp3', '13.mp3', '12.mp3', '11.mp3', '10.mp3', '9.mp3', '8.mp3', '7.mp3', '6.mp3', '5.mp3', '125.mp3', '124.mp3', '123.mp3', '122.mp3', '121.mp3', '119.mp3', '118.mp3', '117.mp3', '116.mp3', '115.mp3', '114.mp3', '113.mp3', '111.mp3', '110.mp3', '108.mp3', '95.mp3', '105.mp3', '93.mp3', '94.mp3', '60.mp3', '59.mp3', '58.mp3', '57.mp3', '52.mp3', '51.mp3', '50.mp3', '49.mp3', '48.mp3', '47.mp3', '45.mp3', '46.mp3', '44.mp3', '43.mp3', '42.mp3', '41.mp3', '40.mp3', '38.mp3', '39.mp3', '37.mp3', '36.mp3', '35.mp3', '34.mp3', '33.mp3', '3.mp3', '2.mp3', '4.mp3', '1.mp3', '15.mp3', '17.mp3', '16.mp3', '18.mp3', '20.mp3', '19.mp3', '21.mp3', '22.mp3', '23.mp3', '25.mp3', '24.mp3', '53.mp3', '54.mp3', '55.mp3', '56.mp3', '61.mp3', '62.mp3', '63.mp3', '64.mp3', '65.mp3', '66.mp3', '67.mp3', '68.mp3', '69.mp3', '70.mp3', '71.mp3', '72.mp3', '73.mp3', '74.mp3', '75.mp3', '76.mp3', '77.mp3', '78.mp3', '79.mp3', '81.mp3', '83.mp3', '85.mp3', '87.mp3', '89.mp3', '91.mp3', '104.mp3', '106.mp3', '107.mp3', '109.mp3', '112.mp3', '27.mp3', '30.mp3', '31.mp3', '92.mp3', '28.mp3', '29.mp3', '26.mp3', '32.mp3', '120.mp3', '127.mp3', '131.mp3', '128.mp3', '135.mp3', '132.mp3', '134.mp3', '129.mp3', '130.mp3', '126.mp3', '137.mp3', '140.mp3', '133.mp3', '139.mp3', '136.mp3', '141.mp3', '143.mp3', '142.mp3', '138.mp3']\n"
          ]
        }
      ]
    },
    {
      "cell_type": "code",
      "source": [
        "exmpt = [str(x)+'.mp3' for x in range(36,71)]"
      ],
      "metadata": {
        "id": "hjgiChXXughr"
      },
      "execution_count": 14,
      "outputs": []
    },
    {
      "cell_type": "code",
      "source": [
        "exmpt"
      ],
      "metadata": {
        "id": "ieP6nLZ2uteq"
      },
      "execution_count": null,
      "outputs": []
    },
    {
      "cell_type": "code",
      "source": [
        "os.chdir(src)\n",
        "for src in lii:\n",
        "  if src not in exmpt:\n",
        "    sound = AudioSegment.from_mp3(src)\n",
        "    na = src.split('.')[0]+'.wav'\n",
        "    # print(na)\n",
        "    sound.export(dst+na, format=\"wav\")"
      ],
      "metadata": {
        "id": "qUbH_UditILK"
      },
      "execution_count": 20,
      "outputs": []
    },
    {
      "cell_type": "code",
      "source": [
        ""
      ],
      "metadata": {
        "id": "afT6s-aRvvdN"
      },
      "execution_count": null,
      "outputs": []
    }
  ]
}