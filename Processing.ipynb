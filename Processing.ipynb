{
  "nbformat": 4,
  "nbformat_minor": 0,
  "metadata": {
    "colab": {
      "name": "Processing.ipynb",
      "provenance": [],
      "collapsed_sections": []
    },
    "kernelspec": {
      "name": "python3",
      "display_name": "Python 3"
    },
    "language_info": {
      "name": "python"
    }
  },
  "cells": [
    {
      "cell_type": "code",
      "source": [
        "pip install torchtext==0.6.0"
      ],
      "metadata": {
        "colab": {
          "base_uri": "https://localhost:8080/"
        },
        "id": "M-1KSVPUMGN4",
        "outputId": "76052647-f416-48aa-903d-4144700a6ff7"
      },
      "execution_count": 1,
      "outputs": [
        {
          "output_type": "stream",
          "name": "stdout",
          "text": [
            "Requirement already satisfied: torchtext==0.6.0 in /usr/local/lib/python3.7/dist-packages (0.6.0)\n",
            "Requirement already satisfied: torch in /usr/local/lib/python3.7/dist-packages (from torchtext==0.6.0) (1.10.0+cu111)\n",
            "Requirement already satisfied: requests in /usr/local/lib/python3.7/dist-packages (from torchtext==0.6.0) (2.23.0)\n",
            "Requirement already satisfied: numpy in /usr/local/lib/python3.7/dist-packages (from torchtext==0.6.0) (1.19.5)\n",
            "Requirement already satisfied: tqdm in /usr/local/lib/python3.7/dist-packages (from torchtext==0.6.0) (4.62.3)\n",
            "Requirement already satisfied: sentencepiece in /usr/local/lib/python3.7/dist-packages (from torchtext==0.6.0) (0.1.96)\n",
            "Requirement already satisfied: six in /usr/local/lib/python3.7/dist-packages (from torchtext==0.6.0) (1.15.0)\n",
            "Requirement already satisfied: urllib3!=1.25.0,!=1.25.1,<1.26,>=1.21.1 in /usr/local/lib/python3.7/dist-packages (from requests->torchtext==0.6.0) (1.24.3)\n",
            "Requirement already satisfied: certifi>=2017.4.17 in /usr/local/lib/python3.7/dist-packages (from requests->torchtext==0.6.0) (2021.10.8)\n",
            "Requirement already satisfied: idna<3,>=2.5 in /usr/local/lib/python3.7/dist-packages (from requests->torchtext==0.6.0) (2.10)\n",
            "Requirement already satisfied: chardet<4,>=3.0.2 in /usr/local/lib/python3.7/dist-packages (from requests->torchtext==0.6.0) (3.0.4)\n",
            "Requirement already satisfied: typing-extensions in /usr/local/lib/python3.7/dist-packages (from torch->torchtext==0.6.0) (3.10.0.2)\n"
          ]
        }
      ]
    },
    {
      "cell_type": "code",
      "execution_count": 1,
      "metadata": {
        "id": "VwFRBUrJLtjY"
      },
      "outputs": [],
      "source": [
        "import numpy as np"
      ]
    },
    {
      "cell_type": "code",
      "source": [
        "HOME_DIR = '/content/drive/MyDrive/DataSetVoice/'"
      ],
      "metadata": {
        "id": "dqHPYEQWMce-"
      },
      "execution_count": 2,
      "outputs": []
    },
    {
      "cell_type": "code",
      "source": [
        "import csv"
      ],
      "metadata": {
        "id": "4OJwXntfMrg3"
      },
      "execution_count": 3,
      "outputs": []
    },
    {
      "cell_type": "code",
      "source": [
        "import csv\n",
        "import numpy as np\n",
        "filename1 = HOME_DIR+\"guitar_notes.csv\"\n",
        "filename2 = HOME_DIR+\"song_notes.csv\"\n",
        "def getData(filename1, filename2):\n",
        "    with open(filename1) as csv1, open(filename2) as csv2:\n",
        "        reader1 = csv.reader(csv1)\n",
        "        reader2 = csv.reader(csv2)\n",
        "        for row1, row2 in zip(reader1, reader2):\n",
        "            yield (np.array(row1, dtype=np.str),\n",
        "                   np.array(row2, dtype=np.str)) \n",
        "                # This will give arrays of floats, for other types change dtype\n",
        "\n",
        "for g,s in getData(filename1, filename2):\n",
        "    print(len(s),len(g))"
      ],
      "metadata": {
        "id": "aS8qAOZWCXAC"
      },
      "execution_count": null,
      "outputs": []
    },
    {
      "cell_type": "code",
      "source": [
        "numElems = 4000\n",
        "guitar_sample = []\n",
        "song_sample = []\n",
        "for i,(g,s) in enumerate(getData(filename1, filename2)):\n",
        "  if len(g)<len(s):\n",
        "    idx = np.round(np.linspace(0, len(g) - 1, numElems)).astype(int)\n",
        "  else:\n",
        "    idx = np.round(np.linspace(0, len(s) - 1, numElems)).astype(int)\n",
        "  \n",
        "  \n",
        "  gsample = g[idx].tolist()\n",
        "  ssample = s[idx].tolist()\n",
        "  guitar_sample+=gsample\n",
        "  song_sample+=ssample"
      ],
      "metadata": {
        "id": "1PFqsuRxDf_P"
      },
      "execution_count": 6,
      "outputs": []
    },
    {
      "cell_type": "code",
      "source": [
        "guitar_sample[100],song_sample[100]"
      ],
      "metadata": {
        "colab": {
          "base_uri": "https://localhost:8080/"
        },
        "id": "FbZrBA6k-I1V",
        "outputId": "b928a3d3-fa56-430c-80e7-b61ba055d625"
      },
      "execution_count": 8,
      "outputs": [
        {
          "output_type": "execute_result",
          "data": {
            "text/plain": [
              "(\"['C♯11', 'G5', 'G♯-1']\", \"['G♯9', 'D6', 'C-1']\")"
            ]
          },
          "metadata": {},
          "execution_count": 8
        }
      ]
    },
    {
      "cell_type": "code",
      "source": [
        "len(guitar_sample)"
      ],
      "metadata": {
        "colab": {
          "base_uri": "https://localhost:8080/"
        },
        "id": "zCPzhsHyCRJc",
        "outputId": "f16f4442-82d4-4e8f-af33-ed00f97e2165"
      },
      "execution_count": 9,
      "outputs": [
        {
          "output_type": "execute_result",
          "data": {
            "text/plain": [
              "412000"
            ]
          },
          "metadata": {},
          "execution_count": 9
        }
      ]
    },
    {
      "cell_type": "code",
      "source": [
        "len(song_sample)"
      ],
      "metadata": {
        "id": "HPSYIjG3CxP7",
        "colab": {
          "base_uri": "https://localhost:8080/"
        },
        "outputId": "b256291a-f281-4a75-fb60-89b4e1a3234f"
      },
      "execution_count": 10,
      "outputs": [
        {
          "output_type": "execute_result",
          "data": {
            "text/plain": [
              "412000"
            ]
          },
          "metadata": {},
          "execution_count": 10
        }
      ]
    },
    {
      "cell_type": "code",
      "source": [
        "song_412 = [eval(elem) for elem in song_sample]\n",
        "guitar_412 = [eval(elem) for elem in guitar_sample]"
      ],
      "metadata": {
        "id": "sDNIrFM9EWmM"
      },
      "execution_count": 11,
      "outputs": []
    },
    {
      "cell_type": "code",
      "source": [
        "song_412[0]"
      ],
      "metadata": {
        "colab": {
          "base_uri": "https://localhost:8080/"
        },
        "id": "-eHIr_trFMxz",
        "outputId": "6c120ccc-ec16-49b2-be77-eb855e4a2afc"
      },
      "execution_count": 12,
      "outputs": [
        {
          "output_type": "execute_result",
          "data": {
            "text/plain": [
              "['C11', 'G4', 'D♯-1']"
            ]
          },
          "metadata": {},
          "execution_count": 12
        }
      ]
    },
    {
      "cell_type": "code",
      "source": [
        "with open(HOME_DIR+\"guitar_412.csv\", \"w\", newline=\"\") as f:\n",
        "  writer = csv.writer(f,delimiter=\" \")\n",
        "  writer.writerows(guitar_412)"
      ],
      "metadata": {
        "id": "zN_-DSMwFSC3"
      },
      "execution_count": 13,
      "outputs": []
    },
    {
      "cell_type": "code",
      "source": [
        "with open(HOME_DIR+\"/song_412.csv\", \"w\", newline=\"\") as f:  \n",
        "  writer = csv.writer(f,delimiter=\" \")\n",
        "  writer.writerows(song_412)"
      ],
      "metadata": {
        "id": "3lnYq7Mv7g9i"
      },
      "execution_count": 14,
      "outputs": []
    },
    {
      "cell_type": "code",
      "source": [
        "import pandas as pd"
      ],
      "metadata": {
        "id": "4_PkZZdmk3Xl"
      },
      "execution_count": 15,
      "outputs": []
    },
    {
      "cell_type": "code",
      "source": [
        "data_song = pd.read_csv(HOME_DIR+\"/song_412.csv\",header=None)\n",
        "data_guitar = pd.read_csv(HOME_DIR+\"/guitar_412.csv\",header=None)"
      ],
      "metadata": {
        "id": "o6xZm1yLkpYm"
      },
      "execution_count": 16,
      "outputs": []
    },
    {
      "cell_type": "code",
      "source": [
        "data = pd.concat([data_song,data_guitar],axis=1)"
      ],
      "metadata": {
        "id": "fxw6yHJCo4zb"
      },
      "execution_count": 17,
      "outputs": []
    },
    {
      "cell_type": "code",
      "source": [
        "data.sample(10)"
      ],
      "metadata": {
        "id": "YxxXH8U5w3kZ",
        "colab": {
          "base_uri": "https://localhost:8080/",
          "height": 363
        },
        "outputId": "870243e7-e5b1-4205-bb0e-30985397a815"
      },
      "execution_count": 18,
      "outputs": [
        {
          "output_type": "execute_result",
          "data": {
            "text/html": [
              "\n",
              "  <div id=\"df-30c8ca9f-ba7d-4418-aef0-389e21a21820\">\n",
              "    <div class=\"colab-df-container\">\n",
              "      <div>\n",
              "<style scoped>\n",
              "    .dataframe tbody tr th:only-of-type {\n",
              "        vertical-align: middle;\n",
              "    }\n",
              "\n",
              "    .dataframe tbody tr th {\n",
              "        vertical-align: top;\n",
              "    }\n",
              "\n",
              "    .dataframe thead th {\n",
              "        text-align: right;\n",
              "    }\n",
              "</style>\n",
              "<table border=\"1\" class=\"dataframe\">\n",
              "  <thead>\n",
              "    <tr style=\"text-align: right;\">\n",
              "      <th></th>\n",
              "      <th>0</th>\n",
              "      <th>0</th>\n",
              "    </tr>\n",
              "  </thead>\n",
              "  <tbody>\n",
              "    <tr>\n",
              "      <th>323602</th>\n",
              "      <td>C♯11 D6 A-1</td>\n",
              "      <td>G♯9 G4 C-1</td>\n",
              "    </tr>\n",
              "    <tr>\n",
              "      <th>124403</th>\n",
              "      <td>G♯9 G9 C-1</td>\n",
              "      <td>A9 G6 C-1</td>\n",
              "    </tr>\n",
              "    <tr>\n",
              "      <th>410996</th>\n",
              "      <td>A9 D6 C-1</td>\n",
              "      <td>C11 D6 D♯-1</td>\n",
              "    </tr>\n",
              "    <tr>\n",
              "      <th>165040</th>\n",
              "      <td>G♯9 G5 C-1</td>\n",
              "      <td>G♯9 G5 C-1</td>\n",
              "    </tr>\n",
              "    <tr>\n",
              "      <th>215376</th>\n",
              "      <td>A9 G5 C-1</td>\n",
              "      <td>C♯11 G5 E-1</td>\n",
              "    </tr>\n",
              "    <tr>\n",
              "      <th>65478</th>\n",
              "      <td>C11 G5 E0</td>\n",
              "      <td>C♯11 B6 D-1</td>\n",
              "    </tr>\n",
              "    <tr>\n",
              "      <th>222254</th>\n",
              "      <td>C11 B6 F0</td>\n",
              "      <td>G♯9 G5 C-1</td>\n",
              "    </tr>\n",
              "    <tr>\n",
              "      <th>309339</th>\n",
              "      <td>G♯9 G5 C-1</td>\n",
              "      <td>G♯9 G4 C-1</td>\n",
              "    </tr>\n",
              "    <tr>\n",
              "      <th>165100</th>\n",
              "      <td>C♯11 G5 F♯-1</td>\n",
              "      <td>G♯9 G5 C-1</td>\n",
              "    </tr>\n",
              "    <tr>\n",
              "      <th>73129</th>\n",
              "      <td>C11 C♯9 D♯-1</td>\n",
              "      <td>A9 D6 C-1</td>\n",
              "    </tr>\n",
              "  </tbody>\n",
              "</table>\n",
              "</div>\n",
              "      <button class=\"colab-df-convert\" onclick=\"convertToInteractive('df-30c8ca9f-ba7d-4418-aef0-389e21a21820')\"\n",
              "              title=\"Convert this dataframe to an interactive table.\"\n",
              "              style=\"display:none;\">\n",
              "        \n",
              "  <svg xmlns=\"http://www.w3.org/2000/svg\" height=\"24px\"viewBox=\"0 0 24 24\"\n",
              "       width=\"24px\">\n",
              "    <path d=\"M0 0h24v24H0V0z\" fill=\"none\"/>\n",
              "    <path d=\"M18.56 5.44l.94 2.06.94-2.06 2.06-.94-2.06-.94-.94-2.06-.94 2.06-2.06.94zm-11 1L8.5 8.5l.94-2.06 2.06-.94-2.06-.94L8.5 2.5l-.94 2.06-2.06.94zm10 10l.94 2.06.94-2.06 2.06-.94-2.06-.94-.94-2.06-.94 2.06-2.06.94z\"/><path d=\"M17.41 7.96l-1.37-1.37c-.4-.4-.92-.59-1.43-.59-.52 0-1.04.2-1.43.59L10.3 9.45l-7.72 7.72c-.78.78-.78 2.05 0 2.83L4 21.41c.39.39.9.59 1.41.59.51 0 1.02-.2 1.41-.59l7.78-7.78 2.81-2.81c.8-.78.8-2.07 0-2.86zM5.41 20L4 18.59l7.72-7.72 1.47 1.35L5.41 20z\"/>\n",
              "  </svg>\n",
              "      </button>\n",
              "      \n",
              "  <style>\n",
              "    .colab-df-container {\n",
              "      display:flex;\n",
              "      flex-wrap:wrap;\n",
              "      gap: 12px;\n",
              "    }\n",
              "\n",
              "    .colab-df-convert {\n",
              "      background-color: #E8F0FE;\n",
              "      border: none;\n",
              "      border-radius: 50%;\n",
              "      cursor: pointer;\n",
              "      display: none;\n",
              "      fill: #1967D2;\n",
              "      height: 32px;\n",
              "      padding: 0 0 0 0;\n",
              "      width: 32px;\n",
              "    }\n",
              "\n",
              "    .colab-df-convert:hover {\n",
              "      background-color: #E2EBFA;\n",
              "      box-shadow: 0px 1px 2px rgba(60, 64, 67, 0.3), 0px 1px 3px 1px rgba(60, 64, 67, 0.15);\n",
              "      fill: #174EA6;\n",
              "    }\n",
              "\n",
              "    [theme=dark] .colab-df-convert {\n",
              "      background-color: #3B4455;\n",
              "      fill: #D2E3FC;\n",
              "    }\n",
              "\n",
              "    [theme=dark] .colab-df-convert:hover {\n",
              "      background-color: #434B5C;\n",
              "      box-shadow: 0px 1px 3px 1px rgba(0, 0, 0, 0.15);\n",
              "      filter: drop-shadow(0px 1px 2px rgba(0, 0, 0, 0.3));\n",
              "      fill: #FFFFFF;\n",
              "    }\n",
              "  </style>\n",
              "\n",
              "      <script>\n",
              "        const buttonEl =\n",
              "          document.querySelector('#df-30c8ca9f-ba7d-4418-aef0-389e21a21820 button.colab-df-convert');\n",
              "        buttonEl.style.display =\n",
              "          google.colab.kernel.accessAllowed ? 'block' : 'none';\n",
              "\n",
              "        async function convertToInteractive(key) {\n",
              "          const element = document.querySelector('#df-30c8ca9f-ba7d-4418-aef0-389e21a21820');\n",
              "          const dataTable =\n",
              "            await google.colab.kernel.invokeFunction('convertToInteractive',\n",
              "                                                     [key], {});\n",
              "          if (!dataTable) return;\n",
              "\n",
              "          const docLinkHtml = 'Like what you see? Visit the ' +\n",
              "            '<a target=\"_blank\" href=https://colab.research.google.com/notebooks/data_table.ipynb>data table notebook</a>'\n",
              "            + ' to learn more about interactive tables.';\n",
              "          element.innerHTML = '';\n",
              "          dataTable['output_type'] = 'display_data';\n",
              "          await google.colab.output.renderOutput(dataTable, element);\n",
              "          const docLink = document.createElement('div');\n",
              "          docLink.innerHTML = docLinkHtml;\n",
              "          element.appendChild(docLink);\n",
              "        }\n",
              "      </script>\n",
              "    </div>\n",
              "  </div>\n",
              "  "
            ],
            "text/plain": [
              "                   0            0\n",
              "323602   C♯11 D6 A-1   G♯9 G4 C-1\n",
              "124403    G♯9 G9 C-1    A9 G6 C-1\n",
              "410996     A9 D6 C-1  C11 D6 D♯-1\n",
              "165040    G♯9 G5 C-1   G♯9 G5 C-1\n",
              "215376     A9 G5 C-1  C♯11 G5 E-1\n",
              "65478      C11 G5 E0  C♯11 B6 D-1\n",
              "222254     C11 B6 F0   G♯9 G5 C-1\n",
              "309339    G♯9 G5 C-1   G♯9 G4 C-1\n",
              "165100  C♯11 G5 F♯-1   G♯9 G5 C-1\n",
              "73129   C11 C♯9 D♯-1    A9 D6 C-1"
            ]
          },
          "metadata": {},
          "execution_count": 18
        }
      ]
    },
    {
      "cell_type": "code",
      "source": [
        "data.columns = [\"Song\",\"Guitar\"]"
      ],
      "metadata": {
        "id": "QDKMBNFRGWTv"
      },
      "execution_count": 19,
      "outputs": []
    },
    {
      "cell_type": "code",
      "source": [
        "data.head()"
      ],
      "metadata": {
        "colab": {
          "base_uri": "https://localhost:8080/",
          "height": 206
        },
        "id": "om8YjPfgGjlm",
        "outputId": "2e3bb17f-e6c5-4042-d873-26ad2215faee"
      },
      "execution_count": 20,
      "outputs": [
        {
          "output_type": "execute_result",
          "data": {
            "text/html": [
              "\n",
              "  <div id=\"df-ab14617d-b3c0-4f0f-971e-b4152bc991e1\">\n",
              "    <div class=\"colab-df-container\">\n",
              "      <div>\n",
              "<style scoped>\n",
              "    .dataframe tbody tr th:only-of-type {\n",
              "        vertical-align: middle;\n",
              "    }\n",
              "\n",
              "    .dataframe tbody tr th {\n",
              "        vertical-align: top;\n",
              "    }\n",
              "\n",
              "    .dataframe thead th {\n",
              "        text-align: right;\n",
              "    }\n",
              "</style>\n",
              "<table border=\"1\" class=\"dataframe\">\n",
              "  <thead>\n",
              "    <tr style=\"text-align: right;\">\n",
              "      <th></th>\n",
              "      <th>Song</th>\n",
              "      <th>Guitar</th>\n",
              "    </tr>\n",
              "  </thead>\n",
              "  <tbody>\n",
              "    <tr>\n",
              "      <th>0</th>\n",
              "      <td>C11 G4 D♯-1</td>\n",
              "      <td>C11 D9 D-1</td>\n",
              "    </tr>\n",
              "    <tr>\n",
              "      <th>1</th>\n",
              "      <td>C♯11 B6 D-1</td>\n",
              "      <td>C11 D♯9 D♯-1</td>\n",
              "    </tr>\n",
              "    <tr>\n",
              "      <th>2</th>\n",
              "      <td>C11 D6 E-1</td>\n",
              "      <td>A9 C♯9 C-1</td>\n",
              "    </tr>\n",
              "    <tr>\n",
              "      <th>3</th>\n",
              "      <td>C♯11 B6 D-1</td>\n",
              "      <td>G♯9 D9 C-1</td>\n",
              "    </tr>\n",
              "    <tr>\n",
              "      <th>4</th>\n",
              "      <td>C♯11 B6 E-1</td>\n",
              "      <td>C♯11 D6 D-1</td>\n",
              "    </tr>\n",
              "  </tbody>\n",
              "</table>\n",
              "</div>\n",
              "      <button class=\"colab-df-convert\" onclick=\"convertToInteractive('df-ab14617d-b3c0-4f0f-971e-b4152bc991e1')\"\n",
              "              title=\"Convert this dataframe to an interactive table.\"\n",
              "              style=\"display:none;\">\n",
              "        \n",
              "  <svg xmlns=\"http://www.w3.org/2000/svg\" height=\"24px\"viewBox=\"0 0 24 24\"\n",
              "       width=\"24px\">\n",
              "    <path d=\"M0 0h24v24H0V0z\" fill=\"none\"/>\n",
              "    <path d=\"M18.56 5.44l.94 2.06.94-2.06 2.06-.94-2.06-.94-.94-2.06-.94 2.06-2.06.94zm-11 1L8.5 8.5l.94-2.06 2.06-.94-2.06-.94L8.5 2.5l-.94 2.06-2.06.94zm10 10l.94 2.06.94-2.06 2.06-.94-2.06-.94-.94-2.06-.94 2.06-2.06.94z\"/><path d=\"M17.41 7.96l-1.37-1.37c-.4-.4-.92-.59-1.43-.59-.52 0-1.04.2-1.43.59L10.3 9.45l-7.72 7.72c-.78.78-.78 2.05 0 2.83L4 21.41c.39.39.9.59 1.41.59.51 0 1.02-.2 1.41-.59l7.78-7.78 2.81-2.81c.8-.78.8-2.07 0-2.86zM5.41 20L4 18.59l7.72-7.72 1.47 1.35L5.41 20z\"/>\n",
              "  </svg>\n",
              "      </button>\n",
              "      \n",
              "  <style>\n",
              "    .colab-df-container {\n",
              "      display:flex;\n",
              "      flex-wrap:wrap;\n",
              "      gap: 12px;\n",
              "    }\n",
              "\n",
              "    .colab-df-convert {\n",
              "      background-color: #E8F0FE;\n",
              "      border: none;\n",
              "      border-radius: 50%;\n",
              "      cursor: pointer;\n",
              "      display: none;\n",
              "      fill: #1967D2;\n",
              "      height: 32px;\n",
              "      padding: 0 0 0 0;\n",
              "      width: 32px;\n",
              "    }\n",
              "\n",
              "    .colab-df-convert:hover {\n",
              "      background-color: #E2EBFA;\n",
              "      box-shadow: 0px 1px 2px rgba(60, 64, 67, 0.3), 0px 1px 3px 1px rgba(60, 64, 67, 0.15);\n",
              "      fill: #174EA6;\n",
              "    }\n",
              "\n",
              "    [theme=dark] .colab-df-convert {\n",
              "      background-color: #3B4455;\n",
              "      fill: #D2E3FC;\n",
              "    }\n",
              "\n",
              "    [theme=dark] .colab-df-convert:hover {\n",
              "      background-color: #434B5C;\n",
              "      box-shadow: 0px 1px 3px 1px rgba(0, 0, 0, 0.15);\n",
              "      filter: drop-shadow(0px 1px 2px rgba(0, 0, 0, 0.3));\n",
              "      fill: #FFFFFF;\n",
              "    }\n",
              "  </style>\n",
              "\n",
              "      <script>\n",
              "        const buttonEl =\n",
              "          document.querySelector('#df-ab14617d-b3c0-4f0f-971e-b4152bc991e1 button.colab-df-convert');\n",
              "        buttonEl.style.display =\n",
              "          google.colab.kernel.accessAllowed ? 'block' : 'none';\n",
              "\n",
              "        async function convertToInteractive(key) {\n",
              "          const element = document.querySelector('#df-ab14617d-b3c0-4f0f-971e-b4152bc991e1');\n",
              "          const dataTable =\n",
              "            await google.colab.kernel.invokeFunction('convertToInteractive',\n",
              "                                                     [key], {});\n",
              "          if (!dataTable) return;\n",
              "\n",
              "          const docLinkHtml = 'Like what you see? Visit the ' +\n",
              "            '<a target=\"_blank\" href=https://colab.research.google.com/notebooks/data_table.ipynb>data table notebook</a>'\n",
              "            + ' to learn more about interactive tables.';\n",
              "          element.innerHTML = '';\n",
              "          dataTable['output_type'] = 'display_data';\n",
              "          await google.colab.output.renderOutput(dataTable, element);\n",
              "          const docLink = document.createElement('div');\n",
              "          docLink.innerHTML = docLinkHtml;\n",
              "          element.appendChild(docLink);\n",
              "        }\n",
              "      </script>\n",
              "    </div>\n",
              "  </div>\n",
              "  "
            ],
            "text/plain": [
              "          Song        Guitar\n",
              "0  C11 G4 D♯-1    C11 D9 D-1\n",
              "1  C♯11 B6 D-1  C11 D♯9 D♯-1\n",
              "2   C11 D6 E-1    A9 C♯9 C-1\n",
              "3  C♯11 B6 D-1    G♯9 D9 C-1\n",
              "4  C♯11 B6 E-1   C♯11 D6 D-1"
            ]
          },
          "metadata": {},
          "execution_count": 20
        }
      ]
    },
    {
      "cell_type": "code",
      "source": [
        "data.to_csv(HOME_DIR+\"sampled_data.csv\",index=False)"
      ],
      "metadata": {
        "id": "JtBnKix6GmDg"
      },
      "execution_count": 21,
      "outputs": []
    },
    {
      "cell_type": "code",
      "source": [
        ""
      ],
      "metadata": {
        "id": "uGTAoTBBG1tg"
      },
      "execution_count": null,
      "outputs": []
    }
  ]
}